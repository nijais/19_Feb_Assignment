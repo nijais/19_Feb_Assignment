{
 "cells": [
  {
   "cell_type": "markdown",
   "id": "277b301d-2d42-496c-ab03-f0fb15f4fa9b",
   "metadata": {},
   "source": [
    "# Q1. What is Flask Framework? What are the advantages of Flask Framework?\n",
    "\n",
    "#### Flask is a micro web framework for building web applications in Python. It is classified as a microframework because it does not require particular tools or libraries. It is designed to be lightweight and modular, with a simple core and an extensible architecture that allows developers to add functionality as needed.\n",
    "\n",
    "#### At its core, Flask provides tools for handling HTTP requests and responses, managing application routing, and handling user sessions. It also includes support for templating engines, database integration, and other common web development tasks.\n",
    "\n",
    "#### One of the key benefits of Flask is its flexibility and ease of use. It has a small, easy-to-learn API and requires minimal setup, making it a popular choice for small to medium-sized projects, prototypes, and proof of concepts.  It is lightweight, easy to learn, and highly extensible, making it a popular choice for developers of all levels of experience. Flask also supports a wide range of extensions and plugins, allowing developers to add advanced features to their applications without having to reinvent the wheel.\n",
    "\n",
    "#### Here are some advantages of using Flask Framework:\n",
    "1. Lightweight: Flask is a micro web framework, which means it has a small core and is designed to be lightweight. This makes it easy to learn, use, and deploy, especially for small to medium-sized projects.\n",
    "\n",
    "2. Easy to learn: Flask has a simple and easy-to-learn API, making it a popular choice for beginners who are just getting started with web development.\n",
    "\n",
    "3. Integration: Flask integrates well with other popular Python libraries, such as SQLAlchemy for database integration, Jinja2 for templating, and WTForms for form handling.\n",
    "\n",
    "4. Flexibility: Flask provides a flexible architecture that allows developers to add functionality as needed. It has a small API and minimal restrictions, making it easy to customize and extend.\n",
    "\n",
    "5. Scalability: Flask is scalable, which means it can handle increased traffic and workload as needed. It also supports deployment to various platforms, including cloud platforms like Heroku and AWS.\n",
    "\n",
    "6. Extensible: Flask supports a wide range of extensions and plugins, allowing developers to add advanced features to their applications without having to write code from scratch."
   ]
  },
  {
   "cell_type": "code",
   "execution_count": null,
   "id": "8af34f04-91a5-494a-8745-f952fe79a4a8",
   "metadata": {},
   "outputs": [],
   "source": []
  },
  {
   "cell_type": "code",
   "execution_count": null,
   "id": "3ab75e80-8bc5-4de5-8248-2a8693814f95",
   "metadata": {},
   "outputs": [],
   "source": []
  },
  {
   "cell_type": "markdown",
   "id": "1dc8abcc-6fcf-4890-8bf0-91b1812cc264",
   "metadata": {},
   "source": [
    "# Q2. Create a simple Flask application to display ‘Hello World!!’. Attach the screenshot of the output in Jupyter Notebook."
   ]
  },
  {
   "cell_type": "code",
   "execution_count": 5,
   "id": "a416bbf7-eaa7-43ad-b240-428cdaed47d4",
   "metadata": {},
   "outputs": [
    {
     "name": "stdout",
     "output_type": "stream",
     "text": [
      "Requirement already satisfied: Flask in /opt/conda/lib/python3.10/site-packages (2.2.3)\n",
      "Requirement already satisfied: Jinja2>=3.0 in /opt/conda/lib/python3.10/site-packages (from Flask) (3.1.2)\n",
      "Requirement already satisfied: Werkzeug>=2.2.2 in /opt/conda/lib/python3.10/site-packages (from Flask) (2.2.3)\n",
      "Requirement already satisfied: itsdangerous>=2.0 in /opt/conda/lib/python3.10/site-packages (from Flask) (2.1.2)\n",
      "Requirement already satisfied: click>=8.0 in /opt/conda/lib/python3.10/site-packages (from Flask) (8.1.3)\n",
      "Requirement already satisfied: MarkupSafe>=2.0 in /opt/conda/lib/python3.10/site-packages (from Jinja2>=3.0->Flask) (2.1.1)\n",
      "Note: you may need to restart the kernel to use updated packages.\n"
     ]
    }
   ],
   "source": [
    "%pip install Flask"
   ]
  },
  {
   "cell_type": "code",
   "execution_count": null,
   "id": "ad5ba2df-e2f0-48ae-b40f-9e4427260bb1",
   "metadata": {},
   "outputs": [],
   "source": [
    "# Importing Flask module\n",
    "from flask import Flask\n",
    "\n",
    "# Creating Flask app object\n",
    "app = Flask(__name__)\n",
    "\n",
    "# define a route for the root URL (\"/\") using the @app.route decorator  This tells Flask to call the hello() function whenever a user visits the root URL.\n",
    "@app.route(\"/\")\n",
    "def hello_world():\n",
    "    return \"<h1 align= 'center'>Hello World!!</h1>\"\n",
    "\n",
    "# running the app\n",
    "if __name__ == \"__main__\":\n",
    "    app.run(host=\"0.0.0.0\")\n",
    "    "
   ]
  },
  {
   "cell_type": "markdown",
   "id": "aab9e24c-d6e0-49bf-8f36-f1e62496f1f8",
   "metadata": {},
   "source": [
    "<img src = \"Screenshot (174).png\">\n"
   ]
  },
  {
   "cell_type": "code",
   "execution_count": null,
   "id": "4eb0f63b-a5ae-45aa-a1c0-65de71020031",
   "metadata": {},
   "outputs": [],
   "source": []
  },
  {
   "cell_type": "code",
   "execution_count": null,
   "id": "f2a6bc72-8f0f-4f7b-ba10-60f6412b504e",
   "metadata": {},
   "outputs": [],
   "source": []
  },
  {
   "cell_type": "markdown",
   "id": "3fd1c549-7997-451b-b20f-a5db6785b953",
   "metadata": {},
   "source": [
    "# Q3. What is App routing in Flask? Why do we use app routes?\n",
    "\n",
    "#### app routing refers to the process of mapping URLs (i.e., \"routes\") to Python functions that handle the incoming requests. The @app.route decorator is used to define a route for a Flask application.\n",
    "\n",
    "#### For example, @app.route(\"/\") is used to define the root URL (\"/\") for a Flask application. When a user visits the root URL, Flask will call the function that is decorated with @app.route(\"/\").\n",
    "\n",
    "- Here's an example of how app routing works in Flask:\n",
    "from flask import Flask\n",
    "app = Flask(__name__)\n",
    "@app.route(\"/\")\n",
    "def hello():\n",
    "    return \"Hello, World!\"\n",
    "\n",
    "@app.route(\"/about\")\n",
    "def about():\n",
    "    return \"About us\"\n",
    "if __name__ == \"__main__\":\n",
    "    app.run(host=\"0.0.0.0\")\n",
    "    \n",
    "- n this example, we've defined two routes: the root URL (\"/\") and the \"/about\" URL. When a user visits the root URL, Flask will call the index() function and return the \"Hello, World!\" message. When a user visits the \"/about\" URL, Flask will call the about() function and return the \"About us\" message.\n",
    "\n",
    "- We use app routes in Flask to create dynamic web applications. By defining routes, we can specify what content should be returned to a user when they visit a particular URL. This makes it possible to create complex web applications with many different pages and functionalities. In addition, app routing allows us to organize our code in a structured and readable way, making it easier to maintain and update our web application over time."
   ]
  },
  {
   "cell_type": "code",
   "execution_count": null,
   "id": "6c0f0d11-6c0e-4420-8f59-0348a481ee86",
   "metadata": {},
   "outputs": [],
   "source": []
  },
  {
   "cell_type": "code",
   "execution_count": null,
   "id": "56747852-e536-42b9-9343-bfa2b5aaee20",
   "metadata": {},
   "outputs": [],
   "source": []
  },
  {
   "cell_type": "markdown",
   "id": "e8ebdee5-8db6-4049-a70a-997465a024f0",
   "metadata": {},
   "source": [
    "# Q4. Create a “/welcome” route to display the welcome message “Welcome to ABC Corporation” and a “/”route to show the following details:\n",
    "\n",
    "Company Name: ABC Corporation\n",
    "\n",
    "Location: India\n",
    "\n",
    "Contact Detail: 999-999-9999\n",
    "\n",
    "Attach the screenshot of the output in Jupyter Notebook.\n"
   ]
  },
  {
   "cell_type": "code",
   "execution_count": null,
   "id": "0cfdef25-92ef-4b05-bb06-e9839ce6222a",
   "metadata": {},
   "outputs": [],
   "source": [
    "from flask import Flask\n",
    "\n",
    "app = Flask(__name__)\n",
    "\n",
    "@app.route(\"/welcome\")\n",
    "def welcome():\n",
    "    return <h1>\"Welcome to ABC Corporation\"</h1>\n",
    "    \n",
    "@app.route(\"/\")\n",
    "def details():\n",
    "    return \"\"\"\n",
    "    <h1>Company Name: ABC Corporation</h1>\n",
    "    <p>Location: India</p>\n",
    "    <p>Contact Detail: 999-999-9999</p>\n",
    "    \"\"\"\n",
    "\n",
    "if __name__ == \"__main__\":\n",
    "    app.run(host=\"0.0.0.0\")\n",
    "    \n",
    "# In this example, the /welcome route returns a simple welcome message when a user visits that URL. The / route returns some company details in HTML format, using a multi-line string to create the HTML markup."
   ]
  },
  {
   "cell_type": "markdown",
   "id": "ef0b7c1e-0a83-4ee0-854b-574bbd0f499d",
   "metadata": {},
   "source": [
    "<img src=\"Screenshot (175).png\">"
   ]
  },
  {
   "cell_type": "markdown",
   "id": "6a3b2611-8998-43dd-9aea-e184b9175dfe",
   "metadata": {},
   "source": [
    "<img src = \"Screenshot (176).png\">"
   ]
  },
  {
   "cell_type": "code",
   "execution_count": null,
   "id": "3e5bb3ae-9238-4815-bf3d-fbe312e98a77",
   "metadata": {},
   "outputs": [],
   "source": []
  },
  {
   "cell_type": "code",
   "execution_count": null,
   "id": "bd6e0d10-1d7d-4f39-8f72-6f9ff9b0da4d",
   "metadata": {},
   "outputs": [],
   "source": []
  },
  {
   "cell_type": "markdown",
   "id": "4a1eede3-02f4-472c-ae83-30de177de856",
   "metadata": {},
   "source": [
    "# Q5. What function is used in Flask for URL Building? Write a Python code to demonstrate the working of the url_for() function.\n",
    "\n",
    "#### In Flask, the `url_for` function is used for URL building.The `url_for` function generates a URL for a given endpoint, based on its name. It takes the name of the endpoint as its first argument and any number of keyword arguments, which represent the variable parts of the URL rule for the endpoint.\n",
    "\n",
    "#### It helps to generate a URL for a given view function. The function accepts the name of the view function as its first argument and any number of keyword arguments that correspond to the variable parts of the URL rule.\n",
    "\n",
    "#### Here's an example of how to use the url_for() function in a Flask application:"
   ]
  },
  {
   "cell_type": "code",
   "execution_count": 7,
   "id": "c3029346-91cf-4aff-b913-b159324d7aff",
   "metadata": {},
   "outputs": [
    {
     "name": "stdout",
     "output_type": "stream",
     "text": [
      "1. URL for Home page is : /\n",
      "2. URL for user is : /user/John\n"
     ]
    }
   ],
   "source": [
    "from flask import Flask, url_for\n",
    "\n",
    "app = Flask(__name__)\n",
    "\n",
    "@app.route('/')\n",
    "def index():\n",
    "    return 'This is the homepage'\n",
    "\n",
    "@app.route('/user/<username>')\n",
    "def user_profile(username):\n",
    "    return f'This is the profile page for {username}'\n",
    "\n",
    "with app.test_request_context():\n",
    "    # Generate a URL for the index function\n",
    "    index_url = url_for('index')\n",
    "    print(\"1. URL for Home page is :\",index_url)\n",
    "\n",
    "    # Generate a URL for the user_profile function with a username parameter\n",
    "    profile_url = url_for('user_profile', username='John')\n",
    "    print(\"2. URL for user is :\", profile_url)"
   ]
  },
  {
   "cell_type": "markdown",
   "id": "b07faba4-f20b-4f00-bb7e-31af8fdb6cfb",
   "metadata": {},
   "source": [
    "- In above example, we have defined two view functions, index() and user_profile(), that correspond to the root URL and a user profile URL, respectively. We then create a test request context using app.test_request_context(), which allows us to use the url_for() function outside of a request context.\n",
    "- Inside the context, we generate two URLs using the url_for() function. The first URL is for the index() function, which doesn't have any URL parameters, so we simply pass its name as the argument. The second URL is for the user_profile() function, which requires a username parameter, so we pass it as a keyword argument.\n",
    "- Finally, we print out the generated URLs using the print() function."
   ]
  },
  {
   "cell_type": "code",
   "execution_count": null,
   "id": "b053e106-984f-4f44-8bda-79c79a4bda3a",
   "metadata": {},
   "outputs": [],
   "source": []
  },
  {
   "cell_type": "code",
   "execution_count": null,
   "id": "7e0e1f3f-d0a8-415c-8d2f-5d8270f1444c",
   "metadata": {},
   "outputs": [],
   "source": []
  }
 ],
 "metadata": {
  "kernelspec": {
   "display_name": "Python 3 (ipykernel)",
   "language": "python",
   "name": "python3"
  },
  "language_info": {
   "codemirror_mode": {
    "name": "ipython",
    "version": 3
   },
   "file_extension": ".py",
   "mimetype": "text/x-python",
   "name": "python",
   "nbconvert_exporter": "python",
   "pygments_lexer": "ipython3",
   "version": "3.10.8"
  }
 },
 "nbformat": 4,
 "nbformat_minor": 5
}
